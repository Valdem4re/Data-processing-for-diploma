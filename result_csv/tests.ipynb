{
 "cells": [
  {
   "cell_type": "code",
   "execution_count": 1,
   "metadata": {},
   "outputs": [],
   "source": [
    "import numpy as np"
   ]
  },
  {
   "cell_type": "code",
   "execution_count": 2,
   "metadata": {},
   "outputs": [],
   "source": [
    "three_layer = [\n",
    "    [0, 0, 0],\n",
    "    [0, 0.5, 0.5],\n",
    "    [0.5, 0, 0.5],\n",
    "    [0.5, 0.5, 0]\n",
    "]\n",
    "\n",
    "oct_void = [\n",
    "    [0.5, 0.5, 0.5],\n",
    "    [0.5, 0, 0],\n",
    "    [0, 0.5, 0],\n",
    "    [0, 0, 0.5]\n",
    "]\n",
    "\n",
    "tetr_void = [\n",
    "    [0.25, 0.25, 0.25],\n",
    "    [0.25, 0.75, 0.75],\n",
    "    [0.75, 0.25, 0.75],\n",
    "    [0.75, 0.75, 0.25],\n",
    "    [0.75, 0.75, 0.75],\n",
    "    [0.75, 0.25, 0.25],\n",
    "    [0.25, 0.75, 0.25],\n",
    "    [0.25, 0.25, 0.75]\n",
    "]"
   ]
  },
  {
   "cell_type": "code",
   "execution_count": 3,
   "metadata": {},
   "outputs": [
    {
     "ename": "NameError",
     "evalue": "name 's' is not defined",
     "output_type": "error",
     "traceback": [
      "\u001b[0;31m---------------------------------------------------------------------------\u001b[0m",
      "\u001b[0;31mNameError\u001b[0m                                 Traceback (most recent call last)",
      "Cell \u001b[0;32mIn[3], line 19\u001b[0m\n\u001b[1;32m     17\u001b[0m \u001b[39m# Оптимизация методом градиентного спуска\u001b[39;00m\n\u001b[1;32m     18\u001b[0m \u001b[39mfor\u001b[39;00m _ \u001b[39min\u001b[39;00m \u001b[39mrange\u001b[39m(iterations):\n\u001b[0;32m---> 19\u001b[0m     grad \u001b[39m=\u001b[39m gradient(s, o, delta_guess)\n\u001b[1;32m     20\u001b[0m     delta_guess \u001b[39m-\u001b[39m\u001b[39m=\u001b[39m learning_rate \u001b[39m*\u001b[39m grad\n\u001b[1;32m     22\u001b[0m s \u001b[39m=\u001b[39m three_layer\n",
      "\u001b[0;31mNameError\u001b[0m: name 's' is not defined"
     ]
    }
   ],
   "source": [
    "def objective_function(s, o, delta):\n",
    "    error = np.sum(np.square(np.abs(s - o + delta)))\n",
    "    return error\n",
    "\n",
    "# Градиент функции\n",
    "def gradient(s, o, delta):\n",
    "    grad = np.zeros_like(s)\n",
    "    for i in range(len(s)):\n",
    "        grad[i] = 2 * np.sign(s[i] - o[i] + delta[i]) * (s[i] - o[i] + delta[i])\n",
    "    return grad\n",
    "# Начальные значения параметров\n",
    "delta_guess = np.zeros(3)\n",
    "# Параметры оптимизации\n",
    "learning_rate = 0.01\n",
    "iterations = 1000\n",
    "\n",
    "s = three_layer\n",
    "o = [[0.685711, 0.685711, 0.685711], [-0.18571099999999996, -0.685711, 1.185711], [1.185711, -0.18571099999999996, -0.685711], [-0.685711, 1.185711, -0.18571099999999996]]\n",
    "\n",
    "# Оптимизация методом градиентного спуска\n",
    "for _ in range(iterations):\n",
    "    grad = gradient(s, o, delta_guess)\n",
    "    delta_guess -= learning_rate * grad\n",
    "\n",
    "\n",
    "# Вывод результата\n",
    "print(\"Оптимальные значения delta:\")\n",
    "print(delta_guess)\n",
    "print(\"Значение функции потерь:\")\n",
    "print(objective_function(s, o, delta_guess))"
   ]
  }
 ],
 "metadata": {
  "kernelspec": {
   "display_name": "Python 3",
   "language": "python",
   "name": "python3"
  },
  "language_info": {
   "codemirror_mode": {
    "name": "ipython",
    "version": 3
   },
   "file_extension": ".py",
   "mimetype": "text/x-python",
   "name": "python",
   "nbconvert_exporter": "python",
   "pygments_lexer": "ipython3",
   "version": "3.10.11"
  },
  "orig_nbformat": 4,
  "vscode": {
   "interpreter": {
    "hash": "e7370f93d1d0cde622a1f8e1c04877d8463912d04d973331ad4851f04de6915a"
   }
  }
 },
 "nbformat": 4,
 "nbformat_minor": 2
}
