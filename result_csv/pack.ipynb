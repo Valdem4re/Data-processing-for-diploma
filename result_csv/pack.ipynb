{
 "cells": [
  {
   "cell_type": "code",
   "execution_count": 1,
   "metadata": {},
   "outputs": [],
   "source": [
    "import pandas as pd\n",
    "import numpy as np\n",
    "import mysql.connector\n",
    "import re\n",
    "\n"
   ]
  },
  {
   "cell_type": "code",
   "execution_count": 2,
   "metadata": {},
   "outputs": [],
   "source": [
    "def get_system_from_cif(cif_file):\n",
    "    # expr =r\"(?:-?\\s*[\\w\\.\\']+)(?:\\s*\\+\\s*\\d+\\/\\d+)?(?:,\\s*-?\\s*[\\w\\.\\']+)(?:\\s*\\+\\s*\\d+\\/\\d+)?(?:,\\s*-?\\s*[\\w\\.\\']+)(?:\\s*\\+\\s*\\d+\\/\\d+)?\"\n",
    "    # res = re.findall(expr, cif_file, re.DOTALL)\n",
    "    # return res\n",
    "    # Находим блок координат с помощью регулярного выражения\n",
    "    # Находим блок координат с помощью регулярного выражения\n",
    "    # Находим блок координат с помощью регулярного выражения\n",
    "    block_pattern = re.compile(r'loop_\\s*_symmetry_equiv_pos_site_id\\s*_symmetry_equiv_pos_as_xyz\\s*(.*?)\\n(?=loop_|$)', re.DOTALL)\n",
    "    block_match = block_pattern.search(cif_file)\n",
    "    \n",
    "    if block_match:\n",
    "        # Извлекаем найденный блок\n",
    "        block_content = block_match.group(1)\n",
    "        \n",
    "        # Разделяем блок на строки\n",
    "        lines = block_content.strip().split('\\n')\n",
    "        \n",
    "        # Используем регулярное выражение для извлечения только координат\n",
    "        coordinates = []\n",
    "        for line in lines:\n",
    "            # Удаляем цифры в начале строки и одинарные кавычки\n",
    "            cleaned_line = re.sub(r'\\d+\\s', '', line).replace(\"'\", \"\")\n",
    "            # Добавляем координаты в список\n",
    "            if cleaned_line.strip():  # Пропускаем пустые строки\n",
    "                coordinates.append(cleaned_line.strip())\n",
    "        \n",
    "        return coordinates\n",
    "    else:\n",
    "        return None"
   ]
  },
  {
   "cell_type": "code",
   "execution_count": 31,
   "metadata": {},
   "outputs": [],
   "source": [
    "\n",
    "#Размножение координаты по ПСТ\n",
    "def expand_coordinates(system_points, coord):\n",
    "    x, y, z = coord\n",
    "    new_coords = []\n",
    "    for pos in system_points:\n",
    "        new_pos = pos.replace('x', str(x)).replace('y', str(y)).replace('z', str(z))\n",
    "        parts = new_pos.split(',')\n",
    "        new_part = []\n",
    "        for part in parts:\n",
    "            # if '-' in part:\n",
    "            #     sign = -1\n",
    "            #     part = part.replace('-', '')\n",
    "            else:\n",
    "                sign = 1\n",
    "            if '/' in part:\n",
    "                if '+' in part:\n",
    "                #     parts_plus = part.split('+')\n",
    "                #     numerator = parts_plus[0].split('/')\n",
    "                #     denominator = parts_plus[1].split('/')\n",
    "                #     numerator_value = float(numerator[0]) / float(numerator[1]) if len(numerator) == 2 else 0\n",
    "                #     denominator_value = float(denominator[0]) / float(denominator[1]) if len(denominator) == 2 else 0\n",
    "                #     value = sign * (numerator_value + denominator_value)\n",
    "                # else:\n",
    "                #     fraction = part.split('/')\n",
    "                #     value = sign * float(fraction[0]) / float(fraction[1])\n",
    "                    sub_parts = part.split('+')\n",
    "                    value = 0.5 + float(sub_parts[1])\n",
    "                elif '-' in part:\n",
    "                    sub_parts = part.split('-')\n",
    "                    value = 0.5 - float(sub_parts[1])\n",
    "            else:\n",
    "                value = sign * float(part)\n",
    "            new_part.append(value)\n",
    "        new_coords.append(new_part)\n",
    "    return new_coords"
   ]
  },
  {
   "cell_type": "code",
   "execution_count": 4,
   "metadata": {},
   "outputs": [],
   "source": [
    "data = pd.read_csv('cubic_groups.csv')\n",
    "\n",
    "\n",
    "conn = mysql.connector.connect(host='localhost', user='user', password='12345', database='NNCDB')\n",
    "cursor = conn.cursor()\n",
    "id = data['CCDC_ID'][154]\n",
    "query = 'SELECT CIF_FILE FROM CIFS WHERE ID = %s'\n",
    "cursor.execute(query, (int(id),))\n",
    "resp_res = cursor.fetchall()\n",
    "test_str = resp_res[0][0]\n",
    "cursor.close()\n",
    "conn.close()"
   ]
  },
  {
   "cell_type": "code",
   "execution_count": 18,
   "metadata": {},
   "outputs": [
    {
     "name": "stdout",
     "output_type": "stream",
     "text": [
      "['x,y,z', '-x,1/2-y,z', 'x,-y,1/2-z', '1/2-x,y,-z', 'z,x,y', 'y,z,x', '-z,1/2-x,y', '1/2-y,z,-x', 'z,-x,1/2-y', '-y,1/2-z,x', '1/2-z,x,-y', 'y,-z,1/2-x', '1/2+x,1/2+y,1/2+z', '1/2-x,-y,1/2+z', '1/2+x,1/2-y,-z', '-x,1/2+y,1/2-z', '1/2+z,1/2+x,1/2+y', '1/2+y,1/2+z,1/2+x', '1/2-z,-x,1/2+y', '-y,1/2+z,1/2-x', '1/2+z,1/2-x,-y', '1/2-y,-z,1/2+x', '-z,1/2+x,1/2-y', '1/2+y,1/2-z,-x']\n"
     ]
    }
   ],
   "source": [
    "print(get_system_from_cif(test_str))"
   ]
  },
  {
   "cell_type": "code",
   "execution_count": 33,
   "metadata": {},
   "outputs": [
    {
     "ename": "ValueError",
     "evalue": "could not convert string to float: ''",
     "output_type": "error",
     "traceback": [
      "\u001b[0;31m---------------------------------------------------------------------------\u001b[0m",
      "\u001b[0;31mValueError\u001b[0m                                Traceback (most recent call last)",
      "Cell \u001b[0;32mIn[33], line 3\u001b[0m\n\u001b[1;32m      1\u001b[0m sys \u001b[39m=\u001b[39m [\u001b[39m'\u001b[39m\u001b[39mx,y,z\u001b[39m\u001b[39m'\u001b[39m, \u001b[39m'\u001b[39m\u001b[39m-x,1/2-y,z\u001b[39m\u001b[39m'\u001b[39m, \u001b[39m'\u001b[39m\u001b[39mx,-y,1/2-z\u001b[39m\u001b[39m'\u001b[39m, \u001b[39m'\u001b[39m\u001b[39m1/2-x,y,-z\u001b[39m\u001b[39m'\u001b[39m, \u001b[39m'\u001b[39m\u001b[39mz,x,y\u001b[39m\u001b[39m'\u001b[39m, \u001b[39m'\u001b[39m\u001b[39my,z,x\u001b[39m\u001b[39m'\u001b[39m, \u001b[39m'\u001b[39m\u001b[39m-z,1/2-x,y\u001b[39m\u001b[39m'\u001b[39m, \u001b[39m'\u001b[39m\u001b[39m1/2-y,z,-x\u001b[39m\u001b[39m'\u001b[39m, \u001b[39m'\u001b[39m\u001b[39mz,-x,1/2-y\u001b[39m\u001b[39m'\u001b[39m, \u001b[39m'\u001b[39m\u001b[39m-y,1/2-z,x\u001b[39m\u001b[39m'\u001b[39m, \u001b[39m'\u001b[39m\u001b[39m1/2-z,x,-y\u001b[39m\u001b[39m'\u001b[39m, \u001b[39m'\u001b[39m\u001b[39my,-z,1/2-x\u001b[39m\u001b[39m'\u001b[39m, \u001b[39m'\u001b[39m\u001b[39m1/2+x,1/2+y,1/2+z\u001b[39m\u001b[39m'\u001b[39m, \u001b[39m'\u001b[39m\u001b[39m1/2-x,-y,1/2+z\u001b[39m\u001b[39m'\u001b[39m, \u001b[39m'\u001b[39m\u001b[39m1/2+x,1/2-y,-z\u001b[39m\u001b[39m'\u001b[39m, \u001b[39m'\u001b[39m\u001b[39m-x,1/2+y,1/2-z\u001b[39m\u001b[39m'\u001b[39m, \u001b[39m'\u001b[39m\u001b[39m1/2+z,1/2+x,1/2+y\u001b[39m\u001b[39m'\u001b[39m, \u001b[39m'\u001b[39m\u001b[39m1/2+y,1/2+z,1/2+x\u001b[39m\u001b[39m'\u001b[39m, \u001b[39m'\u001b[39m\u001b[39m1/2-z,-x,1/2+y\u001b[39m\u001b[39m'\u001b[39m, \u001b[39m'\u001b[39m\u001b[39m-y,1/2+z,1/2-x\u001b[39m\u001b[39m'\u001b[39m, \u001b[39m'\u001b[39m\u001b[39m1/2+z,1/2-x,-y\u001b[39m\u001b[39m'\u001b[39m, \u001b[39m'\u001b[39m\u001b[39m1/2-y,-z,1/2+x\u001b[39m\u001b[39m'\u001b[39m, \u001b[39m'\u001b[39m\u001b[39m-z,1/2+x,1/2-y\u001b[39m\u001b[39m'\u001b[39m, \u001b[39m'\u001b[39m\u001b[39m1/2+y,1/2-z,-x\u001b[39m\u001b[39m'\u001b[39m]\n\u001b[1;32m      2\u001b[0m coord \u001b[39m=\u001b[39m [\u001b[39m1.0\u001b[39m,\u001b[39m1.0\u001b[39m,\u001b[39m1.0\u001b[39m]\n\u001b[0;32m----> 3\u001b[0m pst \u001b[39m=\u001b[39m expand_coordinates(sys, coord)\n\u001b[1;32m      4\u001b[0m pst\n",
      "Cell \u001b[0;32mIn[31], line 31\u001b[0m, in \u001b[0;36mexpand_coordinates\u001b[0;34m(system_points, coord)\u001b[0m\n\u001b[1;32m     29\u001b[0m         before_minus_value \u001b[39m=\u001b[39m sign \u001b[39m*\u001b[39m (\u001b[39mfloat\u001b[39m(fraction[\u001b[39m0\u001b[39m]) \u001b[39m/\u001b[39m \u001b[39mfloat\u001b[39m(fraction[\u001b[39m1\u001b[39m]))\n\u001b[1;32m     30\u001b[0m \u001b[39melse\u001b[39;00m:\n\u001b[0;32m---> 31\u001b[0m     before_minus_value \u001b[39m=\u001b[39m sign \u001b[39m*\u001b[39m \u001b[39mfloat\u001b[39;49m(before_minus)\n\u001b[1;32m     33\u001b[0m \u001b[39mif\u001b[39;00m after_minus:\n\u001b[1;32m     34\u001b[0m     after_minus_value \u001b[39m=\u001b[39m \u001b[39m-\u001b[39m\u001b[39m1\u001b[39m \u001b[39m*\u001b[39m \u001b[39mfloat\u001b[39m(after_minus\u001b[39m.\u001b[39mstrip())\n",
      "\u001b[0;31mValueError\u001b[0m: could not convert string to float: ''"
     ]
    }
   ],
   "source": [
    "sys = ['x,y,z', '-x,1/2-y,z', 'x,-y,1/2-z', '1/2-x,y,-z', 'z,x,y', 'y,z,x', '-z,1/2-x,y', '1/2-y,z,-x', 'z,-x,1/2-y', '-y,1/2-z,x', '1/2-z,x,-y', 'y,-z,1/2-x', '1/2+x,1/2+y,1/2+z', '1/2-x,-y,1/2+z', '1/2+x,1/2-y,-z', '-x,1/2+y,1/2-z', '1/2+z,1/2+x,1/2+y', '1/2+y,1/2+z,1/2+x', '1/2-z,-x,1/2+y', '-y,1/2+z,1/2-x', '1/2+z,1/2-x,-y', '1/2-y,-z,1/2+x', '-z,1/2+x,1/2-y', '1/2+y,1/2-z,-x']\n",
    "coord = [1.0,1.0,1.0]\n",
    "pst = expand_coordinates(sys, coord)\n",
    "pst"
   ]
  }
 ],
 "metadata": {
  "kernelspec": {
   "display_name": "Python 3",
   "language": "python",
   "name": "python3"
  },
  "language_info": {
   "codemirror_mode": {
    "name": "ipython",
    "version": 3
   },
   "file_extension": ".py",
   "mimetype": "text/x-python",
   "name": "python",
   "nbconvert_exporter": "python",
   "pygments_lexer": "ipython3",
   "version": "3.10.11"
  },
  "orig_nbformat": 4,
  "vscode": {
   "interpreter": {
    "hash": "e7370f93d1d0cde622a1f8e1c04877d8463912d04d973331ad4851f04de6915a"
   }
  }
 },
 "nbformat": 4,
 "nbformat_minor": 2
}
