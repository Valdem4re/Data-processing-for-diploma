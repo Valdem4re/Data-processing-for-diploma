{
 "cells": [
  {
   "cell_type": "code",
   "execution_count": 3,
   "metadata": {},
   "outputs": [],
   "source": [
    "import pandas as pd\n",
    "import numpy as np\n",
    "import mysql.connector\n",
    "import logging\n",
    "import re\n",
    "logging.basicConfig(filename='pack.log', level=logging.INFO)\n",
    "\n"
   ]
  },
  {
   "cell_type": "code",
   "execution_count": 4,
   "metadata": {},
   "outputs": [],
   "source": [
    "# упаковки:\n",
    "three_layer = [\n",
    "    [0, 0, 0],\n",
    "    [0, 0.5, 0.5],\n",
    "    [0.5, 0, 0.5],\n",
    "    [0.5, 0.5, 0]\n",
    "]\n",
    "\n",
    "oct_void = [\n",
    "    [0.5, 0.5, 0.5],\n",
    "    [0.5, 0, 0],\n",
    "    [0, 0.5, 0],\n",
    "    [0, 0, 0.5]\n",
    "]\n",
    "\n",
    "tetr_void = [\n",
    "    [0.25, 0.25, 0.25],\n",
    "    [0.25, 0.75, 0.75],\n",
    "    [0.75, 0.25, 0.75],\n",
    "    [0.75, 0.75, 0.25],\n",
    "    [0.75, 0.75, 0.75],\n",
    "    [0.75, 0.25, 0.25],\n",
    "    [0.25, 0.75, 0.25],\n",
    "    [0.25, 0.25, 0.75]\n",
    "]"
   ]
  },
  {
   "cell_type": "code",
   "execution_count": 5,
   "metadata": {},
   "outputs": [],
   "source": [
    "def get_system_from_cif(cif_file):\n",
    "    #поиск блока с общей пст\n",
    "    block_pattern = re.compile(r'loop_\\s*_symmetry_equiv_pos_site_id\\s*_symmetry_equiv_pos_as_xyz\\s*(.*?)\\n(?=loop_|$)', re.DOTALL)\n",
    "    block_match = block_pattern.search(cif_file)\n",
    "    \n",
    "    if block_match:\n",
    "        # Извлекаю найденный блок\n",
    "        block_content = block_match.group(1)\n",
    "        \n",
    "        # Разделяю блок на строки\n",
    "        lines = block_content.strip().split('\\n')\n",
    "        \n",
    "        # извлекаю координаты\n",
    "        coordinates = []\n",
    "        for line in lines:\n",
    "            # удаляю лишнее\n",
    "            cleaned_line = re.sub(r'\\d+\\s', '', line).replace(\"'\", \"\")\n",
    "            # Добавляю координаты в список\n",
    "            if cleaned_line.strip(): \n",
    "                coordinates.append(cleaned_line.strip())\n",
    "        \n",
    "        return coordinates\n",
    "    else:\n",
    "        return None"
   ]
  },
  {
   "cell_type": "code",
   "execution_count": 6,
   "metadata": {},
   "outputs": [],
   "source": [
    "\n",
    "#Размножение координаты по ПСТ\n",
    "def expand_positions(system_points, pos):\n",
    "    x, y, z = pos\n",
    "    new_coords = []\n",
    "    for pos in system_points:\n",
    "        new_pos = pos.replace('x', str(x)).replace('y', str(y)).replace('z', str(z))\n",
    "        if '--' in new_pos: \n",
    "            new_pos = new_pos.replace('--','-') \n",
    "        parts = new_pos.split(',')\n",
    "        new_part = []\n",
    "        for part in parts:\n",
    "            if '/' in part:\n",
    "                denom = 2.0\n",
    "                num = 1.0\n",
    "                if '1/4' in part:\n",
    "                    denom = 4.0\n",
    "                if '1/3' in part:\n",
    "                    num = 3.0\n",
    "                if '+' in part:\n",
    "                    sub_parts = part.split('+')\n",
    "                    value = (num / denom) + float(sub_parts[1])\n",
    "                elif '-' in part:\n",
    "                    sub_parts = part.split('-')\n",
    "                    value = (num / denom) - float(sub_parts[1])\n",
    "            else:\n",
    "                value = float(part)\n",
    "            new_part.append(value)\n",
    "        new_coords.append(new_part)\n",
    "    return new_coords"
   ]
  },
  {
   "cell_type": "code",
   "execution_count": 7,
   "metadata": {},
   "outputs": [],
   "source": [
    "def unique_positions(arr):\n",
    "    unique_rows = np.unique(arr, axis=0)\n",
    "    return unique_rows"
   ]
  },
  {
   "cell_type": "code",
   "execution_count": 8,
   "metadata": {},
   "outputs": [],
   "source": [
    "def get_delta(orbit, pack):\n",
    "    delta = [0.0, 0.0, 0.0]\n",
    "    for o in orbit:\n",
    "        for p in pack:\n",
    "            delta[0] += abs(o[0] - p[0]) ** 2\n",
    "            delta[1] += abs(o[1] - p[1]) ** 2\n",
    "            delta[2] += abs(o[2] - p[2]) ** 2\n",
    "    return delta"
   ]
  },
  {
   "cell_type": "code",
   "execution_count": 10,
   "metadata": {},
   "outputs": [],
   "source": [
    "data = pd.read_csv('cubic_groups.csv')\n",
    "\n",
    "#подключение к бд\n",
    "conn = mysql.connector.connect(host='localhost', user='user', password='12345', database='NNCDB')\n",
    "cursor = conn.cursor()\n",
    "item = data.iloc[0]\n",
    "logging.info(f'Молекула: {item[\"REFCODE\"]}({item[\"Formula\"]})')\n",
    "id = item['CCDC_ID']\n",
    "#запрашиваю cif-файл, чтобы взять общую ПСТ\n",
    "query = 'SELECT CIF_FILE FROM CIFS WHERE ID = %s'\n",
    "cursor.execute(query, (int(id),))\n",
    "resp_res = cursor.fetchall()   \n",
    "\n",
    "cif = resp_res[0][0]\n",
    "\n",
    "#получаю общую ПСТ\n",
    "psys = get_system_from_cif(cif)\n",
    "\n",
    "center_of_mass = [item['C_x'], item['C_y'], item['C_z']]\n",
    "\n",
    "#размножаю ЦМ по общей ПСТ\n",
    "orbit = expand_positions(psys, center_of_mass)\n",
    "\n",
    "#удаляю совпадения\n",
    "uniq_orbit = unique_positions(orbit)\n",
    "if len(uniq_orbit) < 4 or len(uniq_orbit) > 8:\n",
    "    logging.info(f'Частная ПСТ для центра масс не соответствует упаковкам!')\n",
    "else:\n",
    "    logging.info(f'Позиции ЦМ: \\n{uniq_orbit}')\n",
    "\n",
    "cursor.close()\n",
    "conn.close()"
   ]
  }
 ],
 "metadata": {
  "kernelspec": {
   "display_name": "Python 3",
   "language": "python",
   "name": "python3"
  },
  "language_info": {
   "codemirror_mode": {
    "name": "ipython",
    "version": 3
   },
   "file_extension": ".py",
   "mimetype": "text/x-python",
   "name": "python",
   "nbconvert_exporter": "python",
   "pygments_lexer": "ipython3",
   "version": "3.10.11"
  },
  "orig_nbformat": 4,
  "vscode": {
   "interpreter": {
    "hash": "e7370f93d1d0cde622a1f8e1c04877d8463912d04d973331ad4851f04de6915a"
   }
  }
 },
 "nbformat": 4,
 "nbformat_minor": 2
}
